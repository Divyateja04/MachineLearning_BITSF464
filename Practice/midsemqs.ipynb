{
 "cells": [
  {
   "attachments": {},
   "cell_type": "markdown",
   "metadata": {},
   "source": [
    "# Midsem Question"
   ]
  },
  {
   "cell_type": "code",
   "execution_count": 1,
   "metadata": {},
   "outputs": [
    {
     "name": "stdout",
     "output_type": "stream",
     "text": [
      "-7379\n",
      "-1874\n",
      "-5714\n",
      "-17219\n",
      "-8789\n"
     ]
    }
   ],
   "source": [
    "def kernel(x1, x2, y1, y2):\n",
    "    return (x1*y1 + x2*y2)**2\n",
    "\n",
    "def w_eqn(x1, x2):\n",
    "    return (2*kernel(x1, x2, 2, 5))-(3*kernel(x1, x2, -1, 4))+(1*kernel(x1, x2, 3, -8))-(5*kernel(x1, x2, 4, 7))\n",
    "\n",
    "print(w_eqn(2, 5))\n",
    "print(w_eqn(-1, 4))\n",
    "print(w_eqn(3, -8))\n",
    "print(w_eqn(4, 7))\n",
    "print(w_eqn(5, -11))"
   ]
  }
 ],
 "metadata": {
  "kernelspec": {
   "display_name": "py10",
   "language": "python",
   "name": "python3"
  },
  "language_info": {
   "codemirror_mode": {
    "name": "ipython",
    "version": 3
   },
   "file_extension": ".py",
   "mimetype": "text/x-python",
   "name": "python",
   "nbconvert_exporter": "python",
   "pygments_lexer": "ipython3",
   "version": "3.9.13"
  },
  "orig_nbformat": 4
 },
 "nbformat": 4,
 "nbformat_minor": 2
}
